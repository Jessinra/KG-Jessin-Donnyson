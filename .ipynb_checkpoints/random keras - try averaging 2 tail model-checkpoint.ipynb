{
 "cells": [
  {
   "cell_type": "code",
   "execution_count": 36,
   "metadata": {},
   "outputs": [],
   "source": [
    "# first neural network with keras tutorial\n",
    "from numpy import loadtxt\n",
    "import keras\n",
    "from keras.models import Sequential\n",
    "from keras.layers import Dense, Dropout"
   ]
  },
  {
   "cell_type": "code",
   "execution_count": 2,
   "metadata": {},
   "outputs": [],
   "source": [
    "# load the dataset\n",
    "dataset = loadtxt('test_dataset.txt', delimiter=',')"
   ]
  },
  {
   "cell_type": "code",
   "execution_count": 3,
   "metadata": {},
   "outputs": [],
   "source": [
    "# split into input (X) and output (y) variables\n",
    "X = dataset[:,0:8]\n",
    "y = dataset[:,8]"
   ]
  },
  {
   "cell_type": "code",
   "execution_count": 49,
   "metadata": {},
   "outputs": [],
   "source": [
    "from keras.layers import Input, Dense, Dropout\n",
    "from keras.models import Model\n",
    "\n",
    "input_a = Input(shape=(8,))\n",
    "model_a = Dense(12, activation='relu')(input_a)\n",
    "model_a = Dropout(0.3)(model_a)\n",
    "model_a = Dense(8, activation='relu')(model_a)\n",
    "model_a = Dropout(0.3)(model_a)\n",
    "output_a = Dense(1, activation='sigmoid')(model_a)\n",
    "\n",
    "input_b = Input(shape=(8,))\n",
    "model_b = Dense(6, activation='relu')(input_b)\n",
    "model_b = Dropout(0.5)(model_b)\n",
    "model_b = Dense(3, activation='relu')(model_b)\n",
    "model_b = Dropout(0.5)(model_b)\n",
    "output_b = Dense(1, activation='sigmoid')(model_b)\n",
    "\n",
    "pooling_output = keras.layers.Average()([output_a, output_b])"
   ]
  },
  {
   "cell_type": "markdown",
   "metadata": {},
   "source": [
    "# define the keras model\n",
    "model = Sequential()\n",
    "model.add(Dense(12, input_dim=8, activation='relu'))\n",
    "model.add(Dropout(0.3))\n",
    "model.add(Dense(8, activation='relu'))\n",
    "model.add(Dense(1, activation='sigmoid'))\n",
    "\n",
    "model2 = Sequential()\n",
    "model2.add(Dense(6, input_dim=8, activation='relu'))\n",
    "model2.add(Dropout(0.5))\n",
    "model2.add(Dense(3, activation='relu'))\n",
    "model2.add(Dense(1, activation='sigmoid'))"
   ]
  },
  {
   "cell_type": "code",
   "execution_count": 51,
   "metadata": {},
   "outputs": [],
   "source": [
    "model = Model(inputs=[input_a, input_b], outputs=[output_a, output_b])"
   ]
  },
  {
   "cell_type": "code",
   "execution_count": 50,
   "metadata": {},
   "outputs": [],
   "source": [
    "model_with_pooling = Model(inputs=[input_a, input_b], outputs=[pooling_output])"
   ]
  },
  {
   "cell_type": "code",
   "execution_count": 52,
   "metadata": {},
   "outputs": [],
   "source": [
    "# compile the keras model\n",
    "\n",
    "model.compile(loss='binary_crossentropy', optimizer='adam', metrics=['accuracy'])\n",
    "model_with_pooling.compile(loss='binary_crossentropy', optimizer='adam', metrics=['accuracy'])\n",
    "\n",
    "# model2.compile(loss='binary_crossentropy', optimizer='adam', metrics=['accuracy'])"
   ]
  },
  {
   "cell_type": "code",
   "execution_count": 54,
   "metadata": {},
   "outputs": [
    {
     "name": "stdout",
     "output_type": "stream",
     "text": [
      "__________________________________________________________________________________________________\n",
      "Layer (type)                    Output Shape         Param #     Connected to                     \n",
      "==================================================================================================\n",
      "input_20 (InputLayer)           (None, 8)            0                                            \n",
      "__________________________________________________________________________________________________\n",
      "input_21 (InputLayer)           (None, 8)            0                                            \n",
      "__________________________________________________________________________________________________\n",
      "dense_67 (Dense)                (None, 12)           108         input_20[0][0]                   \n",
      "__________________________________________________________________________________________________\n",
      "dense_70 (Dense)                (None, 6)            54          input_21[0][0]                   \n",
      "__________________________________________________________________________________________________\n",
      "dropout_43 (Dropout)            (None, 12)           0           dense_67[0][0]                   \n",
      "__________________________________________________________________________________________________\n",
      "dropout_45 (Dropout)            (None, 6)            0           dense_70[0][0]                   \n",
      "__________________________________________________________________________________________________\n",
      "dense_68 (Dense)                (None, 8)            104         dropout_43[0][0]                 \n",
      "__________________________________________________________________________________________________\n",
      "dense_71 (Dense)                (None, 3)            21          dropout_45[0][0]                 \n",
      "__________________________________________________________________________________________________\n",
      "dropout_44 (Dropout)            (None, 8)            0           dense_68[0][0]                   \n",
      "__________________________________________________________________________________________________\n",
      "dropout_46 (Dropout)            (None, 3)            0           dense_71[0][0]                   \n",
      "__________________________________________________________________________________________________\n",
      "dense_69 (Dense)                (None, 1)            9           dropout_44[0][0]                 \n",
      "__________________________________________________________________________________________________\n",
      "dense_72 (Dense)                (None, 1)            4           dropout_46[0][0]                 \n",
      "==================================================================================================\n",
      "Total params: 300\n",
      "Trainable params: 300\n",
      "Non-trainable params: 0\n",
      "__________________________________________________________________________________________________\n"
     ]
    }
   ],
   "source": [
    "model.summary()"
   ]
  },
  {
   "cell_type": "code",
   "execution_count": 53,
   "metadata": {},
   "outputs": [
    {
     "name": "stdout",
     "output_type": "stream",
     "text": [
      "__________________________________________________________________________________________________\n",
      "Layer (type)                    Output Shape         Param #     Connected to                     \n",
      "==================================================================================================\n",
      "input_20 (InputLayer)           (None, 8)            0                                            \n",
      "__________________________________________________________________________________________________\n",
      "input_21 (InputLayer)           (None, 8)            0                                            \n",
      "__________________________________________________________________________________________________\n",
      "dense_67 (Dense)                (None, 12)           108         input_20[0][0]                   \n",
      "__________________________________________________________________________________________________\n",
      "dense_70 (Dense)                (None, 6)            54          input_21[0][0]                   \n",
      "__________________________________________________________________________________________________\n",
      "dropout_43 (Dropout)            (None, 12)           0           dense_67[0][0]                   \n",
      "__________________________________________________________________________________________________\n",
      "dropout_45 (Dropout)            (None, 6)            0           dense_70[0][0]                   \n",
      "__________________________________________________________________________________________________\n",
      "dense_68 (Dense)                (None, 8)            104         dropout_43[0][0]                 \n",
      "__________________________________________________________________________________________________\n",
      "dense_71 (Dense)                (None, 3)            21          dropout_45[0][0]                 \n",
      "__________________________________________________________________________________________________\n",
      "dropout_44 (Dropout)            (None, 8)            0           dense_68[0][0]                   \n",
      "__________________________________________________________________________________________________\n",
      "dropout_46 (Dropout)            (None, 3)            0           dense_71[0][0]                   \n",
      "__________________________________________________________________________________________________\n",
      "dense_69 (Dense)                (None, 1)            9           dropout_44[0][0]                 \n",
      "__________________________________________________________________________________________________\n",
      "dense_72 (Dense)                (None, 1)            4           dropout_46[0][0]                 \n",
      "__________________________________________________________________________________________________\n",
      "average_1 (Average)             (None, 1)            0           dense_69[0][0]                   \n",
      "                                                                 dense_72[0][0]                   \n",
      "==================================================================================================\n",
      "Total params: 300\n",
      "Trainable params: 300\n",
      "Non-trainable params: 0\n",
      "__________________________________________________________________________________________________\n"
     ]
    }
   ],
   "source": [
    "model_with_pooling.summary()"
   ]
  },
  {
   "cell_type": "code",
   "execution_count": 55,
   "metadata": {
    "scrolled": true
   },
   "outputs": [
    {
     "name": "stdout",
     "output_type": "stream",
     "text": [
      "Epoch 1/10\n",
      "768/768 [==============================] - 1s 2ms/step - loss: 9.9904 - dense_69_loss: 6.0396 - dense_72_loss: 3.9508 - dense_69_acc: 0.4987 - dense_72_acc: 0.5586\n",
      "Epoch 2/10\n",
      "768/768 [==============================] - 0s 182us/step - loss: 9.5299 - dense_69_loss: 5.7118 - dense_72_loss: 3.8181 - dense_69_acc: 0.5391 - dense_72_acc: 0.5508\n",
      "Epoch 3/10\n",
      "768/768 [==============================] - 0s 178us/step - loss: 9.7044 - dense_69_loss: 5.6442 - dense_72_loss: 4.0602 - dense_69_acc: 0.5482 - dense_72_acc: 0.5299\n",
      "Epoch 4/10\n",
      "768/768 [==============================] - 0s 178us/step - loss: 8.5208 - dense_69_loss: 5.1584 - dense_72_loss: 3.3624 - dense_69_acc: 0.5768 - dense_72_acc: 0.5482\n",
      "Epoch 5/10\n",
      "768/768 [==============================] - 0s 185us/step - loss: 8.4374 - dense_69_loss: 4.8934 - dense_72_loss: 3.5440 - dense_69_acc: 0.5977 - dense_72_acc: 0.5560\n",
      "Epoch 6/10\n",
      "768/768 [==============================] - 0s 170us/step - loss: 7.6461 - dense_69_loss: 4.6519 - dense_72_loss: 2.9941 - dense_69_acc: 0.6120 - dense_72_acc: 0.5755\n",
      "Epoch 7/10\n",
      "768/768 [==============================] - 0s 178us/step - loss: 8.2061 - dense_69_loss: 4.5703 - dense_72_loss: 3.6358 - dense_69_acc: 0.6029 - dense_72_acc: 0.5286\n",
      "Epoch 8/10\n",
      "768/768 [==============================] - 0s 176us/step - loss: 7.9137 - dense_69_loss: 4.4260 - dense_72_loss: 3.4877 - dense_69_acc: 0.5820 - dense_72_acc: 0.5026\n",
      "Epoch 9/10\n",
      "768/768 [==============================] - 0s 178us/step - loss: 6.6230 - dense_69_loss: 3.9162 - dense_72_loss: 2.7069 - dense_69_acc: 0.5872 - dense_72_acc: 0.5703\n",
      "Epoch 10/10\n",
      "768/768 [==============================] - 0s 171us/step - loss: 6.0417 - dense_69_loss: 3.6776 - dense_72_loss: 2.3641 - dense_69_acc: 0.5885 - dense_72_acc: 0.5729\n"
     ]
    },
    {
     "data": {
      "text/plain": [
       "<keras.callbacks.History at 0x7fad2d6023c8>"
      ]
     },
     "execution_count": 55,
     "metadata": {},
     "output_type": "execute_result"
    }
   ],
   "source": [
    "# fit the keras model on the dataset\n",
    "model.fit([X, X], [y, y], epochs=10, batch_size=50)"
   ]
  },
  {
   "cell_type": "code",
   "execution_count": 56,
   "metadata": {},
   "outputs": [
    {
     "name": "stdout",
     "output_type": "stream",
     "text": [
      "Epoch 1/10\n",
      "768/768 [==============================] - 1s 2ms/step - loss: 0.7737 - acc: 0.5742\n",
      "Epoch 2/10\n",
      "768/768 [==============================] - 0s 117us/step - loss: 0.7889 - acc: 0.5716\n",
      "Epoch 3/10\n",
      "768/768 [==============================] - 0s 117us/step - loss: 0.7686 - acc: 0.5846\n",
      "Epoch 4/10\n",
      "768/768 [==============================] - 0s 117us/step - loss: 0.7421 - acc: 0.6042\n",
      "Epoch 5/10\n",
      "768/768 [==============================] - 0s 117us/step - loss: 0.7105 - acc: 0.6198\n",
      "Epoch 6/10\n",
      "768/768 [==============================] - 0s 120us/step - loss: 0.6970 - acc: 0.6120\n",
      "Epoch 7/10\n",
      "768/768 [==============================] - 0s 118us/step - loss: 0.6858 - acc: 0.6237\n",
      "Epoch 8/10\n",
      "768/768 [==============================] - 0s 119us/step - loss: 0.6846 - acc: 0.6367\n",
      "Epoch 9/10\n",
      "768/768 [==============================] - 0s 119us/step - loss: 0.6874 - acc: 0.6172\n",
      "Epoch 10/10\n",
      "768/768 [==============================] - 0s 116us/step - loss: 0.6787 - acc: 0.6211\n"
     ]
    },
    {
     "data": {
      "text/plain": [
       "<keras.callbacks.History at 0x7fad2d3151d0>"
      ]
     },
     "execution_count": 56,
     "metadata": {},
     "output_type": "execute_result"
    }
   ],
   "source": [
    "model_with_pooling.fit([X, X], y, epochs=10, batch_size=50)"
   ]
  },
  {
   "cell_type": "code",
   "execution_count": null,
   "metadata": {},
   "outputs": [],
   "source": [
    "# evaluate the keras model\n",
    "loss, accuracy = model.evaluate(X, y)\n",
    "loss2, accuracy2 = model2.evaluate(X, y)\n",
    "\n",
    "print('Accuracy: %.2f' % (accuracy*100))\n",
    "print('Accuracy: %.2f' % (accuracy2*100))"
   ]
  },
  {
   "cell_type": "code",
   "execution_count": 57,
   "metadata": {
    "scrolled": true
   },
   "outputs": [
    {
     "data": {
      "text/plain": [
       "[array([[1.3113022e-06],\n",
       "        [2.4068356e-04],\n",
       "        [0.0000000e+00],\n",
       "        [0.0000000e+00],\n",
       "        [0.0000000e+00],\n",
       "        [7.1525574e-07],\n",
       "        [0.0000000e+00],\n",
       "        [0.0000000e+00],\n",
       "        [0.0000000e+00],\n",
       "        [7.7091769e-08]], dtype=float32), array([[0.48429725],\n",
       "        [0.48429725],\n",
       "        [0.709616  ],\n",
       "        [0.48429725],\n",
       "        [0.5457423 ],\n",
       "        [0.48429725],\n",
       "        [0.5029668 ],\n",
       "        [0.98119974],\n",
       "        [0.5904024 ],\n",
       "        [0.48429722]], dtype=float32)]"
      ]
     },
     "execution_count": 57,
     "metadata": {},
     "output_type": "execute_result"
    }
   ],
   "source": [
    "model.predict([X[:10], X[:10]])"
   ]
  },
  {
   "cell_type": "code",
   "execution_count": 58,
   "metadata": {},
   "outputs": [
    {
     "data": {
      "text/plain": [
       "array([[0.24214928],\n",
       "       [0.24226896],\n",
       "       [0.354808  ],\n",
       "       [0.24214862],\n",
       "       [0.27287114],\n",
       "       [0.24214898],\n",
       "       [0.2514834 ],\n",
       "       [0.49059987],\n",
       "       [0.2952012 ],\n",
       "       [0.24214865]], dtype=float32)"
      ]
     },
     "execution_count": 58,
     "metadata": {},
     "output_type": "execute_result"
    }
   ],
   "source": [
    "model_with_pooling.predict([X[:10], X[:10]])"
   ]
  },
  {
   "cell_type": "code",
   "execution_count": null,
   "metadata": {},
   "outputs": [],
   "source": []
  },
  {
   "cell_type": "code",
   "execution_count": null,
   "metadata": {},
   "outputs": [],
   "source": []
  }
 ],
 "metadata": {
  "kernelspec": {
   "display_name": "Python 3",
   "language": "python",
   "name": "python3"
  },
  "language_info": {
   "codemirror_mode": {
    "name": "ipython",
    "version": 3
   },
   "file_extension": ".py",
   "mimetype": "text/x-python",
   "name": "python",
   "nbconvert_exporter": "python",
   "pygments_lexer": "ipython3",
   "version": "3.5.2"
  }
 },
 "nbformat": 4,
 "nbformat_minor": 2
}
